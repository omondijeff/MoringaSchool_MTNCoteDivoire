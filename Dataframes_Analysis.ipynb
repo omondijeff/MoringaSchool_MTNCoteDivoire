{
  "nbformat": 4,
  "nbformat_minor": 0,
  "metadata": {
    "colab": {
      "name": "Copy of Dataframes Analysis.ipynb",
      "provenance": [],
      "authorship_tag": "ABX9TyPLDiu8CSV+OajkbST7LpO8",
      "include_colab_link": true
    },
    "kernelspec": {
      "name": "python3",
      "display_name": "Python 3"
    }
  },
  "cells": [
    {
      "cell_type": "markdown",
      "metadata": {
        "id": "view-in-github",
        "colab_type": "text"
      },
      "source": [
        "<a href=\"https://colab.research.google.com/github/omondijeff/week_3_IP/blob/master/Dataframes_Analysis.ipynb\" target=\"_parent\"><img src=\"https://colab.research.google.com/assets/colab-badge.svg\" alt=\"Open In Colab\"/></a>"
      ]
    },
    {
      "cell_type": "markdown",
      "metadata": {
        "id": "CXO6RWkoZDpj",
        "colab_type": "text"
      },
      "source": [
        "# Importing Libraries"
      ]
    },
    {
      "cell_type": "code",
      "metadata": {
        "id": "WEszYVZoZWSx",
        "colab_type": "code",
        "colab": {}
      },
      "source": [
        "# import the pandas library\n",
        "import pandas as pd\n",
        "# import the Numpy library\n",
        "import numpy as np"
      ],
      "execution_count": 0,
      "outputs": []
    },
    {
      "cell_type": "markdown",
      "metadata": {
        "id": "1b8Qt7Ps2OIu",
        "colab_type": "text"
      },
      "source": [
        "# Loading and Exploration of Datasets"
      ]
    },
    {
      "cell_type": "code",
      "metadata": {
        "id": "mgImF-56atTK",
        "colab_type": "code",
        "colab": {}
      },
      "source": [
        "#importing the cells geo description\n",
        "cells_geo_des_url = \"cells_geo_description.xlsx\" #defining the location of the xlsx file\n",
        "cells_geo_des = pd.read_excel(cells_geo_des_url) #creating a Dataframe\n",
        "cells_geo_des"
      ],
      "execution_count": 0,
      "outputs": []
    },
    {
      "cell_type": "code",
      "metadata": {
        "id": "nt3eRkKvbpyk",
        "colab_type": "code",
        "colab": {}
      },
      "source": [
        "#importing the CDR description\n",
        "cdr_des_url = \"CDR_description.xlsx\" #defining the file url\n",
        "cdr_des = pd.read_excel(cdr_des_url)  #creating a dataframe\n",
        "cdr_des"
      ],
      "execution_count": 0,
      "outputs": []
    },
    {
      "cell_type": "code",
      "metadata": {
        "id": "jHhZY9LVzIEu",
        "colab_type": "code",
        "colab": {}
      },
      "source": [
        "#importing the cells geo csv\n",
        "cells_geo_url = \"cells_geo.csv\" #definiing the file location\n",
        "cells_geo = pd.read_csv(cells_geo_url, sep=\";\", index_col=0) #creating a dataframe from a csv\n",
        "cells_geo"
      ],
      "execution_count": 0,
      "outputs": []
    },
    {
      "cell_type": "code",
      "metadata": {
        "id": "fz1FLMbbznNo",
        "colab_type": "code",
        "colab": {}
      },
      "source": [
        "#importing the Telcom Dataset1\n",
        "telcom1_url = \"Telcom_dataset.csv\" #defining the file location\n",
        "telcom_dataset1 = pd.read_csv(telcom1_url) #creating a dataframe from the csv\n",
        "telcom_dataset1"
      ],
      "execution_count": 0,
      "outputs": []
    },
    {
      "cell_type": "code",
      "metadata": {
        "id": "bRJbVzeM0MRk",
        "colab_type": "code",
        "colab": {}
      },
      "source": [
        "#importing the Telcom Dataset2\n",
        "telcom2_url = \"Telcom_dataset2.csv\" #defining the file location\n",
        "telcom_dataset2 = pd.read_csv(telcom2_url) #creating a dataframe from csv\n",
        "telcom_dataset2"
      ],
      "execution_count": 0,
      "outputs": []
    },
    {
      "cell_type": "code",
      "metadata": {
        "id": "0j-j6mTL0nB6",
        "colab_type": "code",
        "colab": {}
      },
      "source": [
        "#importing the Telcom Dataset3\n",
        "telcom3_url = \"Telcom_dataset3.csv\" #defining the file location\n",
        "telcom_dataset3 = pd.read_csv(telcom3_url) #creating a dataframe from the csv\n",
        "telcom_dataset3"
      ],
      "execution_count": 0,
      "outputs": []
    },
    {
      "cell_type": "markdown",
      "metadata": {
        "id": "5RgK1Ze82hHU",
        "colab_type": "text"
      },
      "source": [
        "# Cleaning of The Datasets"
      ]
    },
    {
      "cell_type": "code",
      "metadata": {
        "id": "XZh6pbnV0uw7",
        "colab_type": "code",
        "colab": {}
      },
      "source": [
        "#We create a new geo description Dataframe that has only the required/necessary columns\n",
        "#i will call it clean_cells_geo\n",
        "\n",
        "clean_cells_geo = cells_geo[['VILLES','STATUS','CELL_ID','SITE_CODE']]\n",
        "clean_cells_geo"
      ],
      "execution_count": 0,
      "outputs": []
    },
    {
      "cell_type": "code",
      "metadata": {
        "id": "6zsXeBy61rxj",
        "colab_type": "code",
        "colab": {}
      },
      "source": [
        "#changing the column names pf the three datasets, to make them similar\n",
        "\n",
        "telcom_dataset1.columns = ['PRODUCT','VALUE','DATE_TIME','CELL_ON_SITE','DW_A_NUMBER_INT','DW_B_NUMBER_INT','COUNTRY_A','COUNTRY_B','CELL_ID','SITE_ID']\n",
        "telcom_dataset2.columns = ['PRODUCT','VALUE','DATE_TIME','CELL_ON_SITE','DW_A_NUMBER_INT','DW_B_NUMBER_INT','COUNTRY_A','COUNTRY_B','CELL_ID','SITE_ID']\n",
        "telcom_dataset3.columns = ['PRODUCT','VALUE','DATE_TIME','CELL_ON_SITE','DW_A_NUMBER_INT','DW_B_NUMBER_INT','COUNTRY_A','COUNTRY_B','CELL_ID','SITE_ID']"
      ],
      "execution_count": 0,
      "outputs": []
    },
    {
      "cell_type": "code",
      "metadata": {
        "id": "f4uuKcLyZJAL",
        "colab_type": "code",
        "colab": {}
      },
      "source": [
        "#Joining the three datasets into one using concat to From Telcom Dataset\n",
        "telcom_dataset = pd.concat([telcom_dataset1, telcom_dataset2,telcom_dataset3], axis=0)\n",
        "telcom_dataset"
      ],
      "execution_count": 0,
      "outputs": []
    },
    {
      "cell_type": "code",
      "metadata": {
        "id": "uHdAX59LhtY2",
        "colab_type": "code",
        "colab": {}
      },
      "source": [
        "#i now merge the telcom dataset with cleaned_cells_geo dataset\n",
        "new_telcom = pd.merge(left=clean_cells_geo,right=telcom_dataset,left_on='SITE_CODE',right_on='SITE_ID')\n",
        "new_telcom"
      ],
      "execution_count": 0,
      "outputs": []
    },
    {
      "cell_type": "code",
      "metadata": {
        "id": "meEnGaYPkzXM",
        "colab_type": "code",
        "colab": {}
      },
      "source": [
        "#i'll remove duplicates from the DataFrame\n",
        "new_telcom.drop_duplicates()\n",
        "\n",
        "#Deletion of null values\n",
        "new_telcom = new_telcom.dropna()\n",
        "new_telcom"
      ],
      "execution_count": 0,
      "outputs": []
    },
    {
      "cell_type": "markdown",
      "metadata": {
        "id": "P-ynStZa6R4s",
        "colab_type": "text"
      },
      "source": [
        "## Analysis"
      ]
    },
    {
      "cell_type": "code",
      "metadata": {
        "id": "I9RgNdJR6VEI",
        "colab_type": "code",
        "outputId": "c75e1841-7034-41ce-d7cc-82aa3e91bdc5",
        "colab": {
          "base_uri": "https://localhost:8080/",
          "height": 221
        }
      },
      "source": [
        "#I will count the number of occurences of each and every city to find the most used\n",
        "occurences = new_telcom['VILLES'].value_counts()\n",
        "occurences"
      ],
      "execution_count": 0,
      "outputs": [
        {
          "output_type": "execute_result",
          "data": {
            "text/plain": [
              "YOPOUGON     8540\n",
              "ABOBO        6195\n",
              "COCODY       3814\n",
              "ADJAME       2627\n",
              "KOUMASSI     2333\n",
              "             ... \n",
              "KOTOUBA         3\n",
              "SAMO            3\n",
              "ATTIGUEHI       3\n",
              "DANANON         2\n",
              "KOTOULA         2\n",
              "Name: VILLES, Length: 400, dtype: int64"
            ]
          },
          "metadata": {
            "tags": []
          },
          "execution_count": 71
        }
      ]
    },
    {
      "cell_type": "code",
      "metadata": {
        "id": "_KjAYo5W7tj8",
        "colab_type": "code",
        "colab": {}
      },
      "source": [
        "#I then save the file to csv to enable further manipulation\n",
        "occurences = new_telcom['VILLES'].value_counts()\n",
        "df = pd.DataFrame(occurences)\n",
        "df.to_csv('Occurences')"
      ],
      "execution_count": 0,
      "outputs": []
    },
    {
      "cell_type": "code",
      "metadata": {
        "id": "WniHt9O3nttC",
        "colab_type": "code",
        "outputId": "09083e1d-60fd-4e9e-c3c4-33992641e054",
        "colab": {
          "base_uri": "https://localhost:8080/",
          "height": 68
        }
      },
      "source": [
        "df2 = pd.read_csv('/content/occurences')\n",
        "df2\n",
        "df2.sum(axis = 0, skipna = True) "
      ],
      "execution_count": 0,
      "outputs": [
        {
          "output_type": "execute_result",
          "data": {
            "text/plain": [
              "CITY     YOPOUGONABOBOCOCODYADJAMEKOUMASSIMARCORYYAMOUS...\n",
              "COUNT                                                50645\n",
              "dtype: object"
            ]
          },
          "metadata": {
            "tags": []
          },
          "execution_count": 83
        }
      ]
    },
    {
      "cell_type": "code",
      "metadata": {
        "id": "DMHcHz7OrSBo",
        "colab_type": "code",
        "outputId": "3f18a61b-ab93-4283-b874-01090ba734be",
        "colab": {
          "base_uri": "https://localhost:8080/",
          "height": 1000
        }
      },
      "source": [
        "df2[(df2['COUNT'] > 100)]"
      ],
      "execution_count": 0,
      "outputs": [
        {
          "output_type": "execute_result",
          "data": {
            "text/html": [
              "<div>\n",
              "<style scoped>\n",
              "    .dataframe tbody tr th:only-of-type {\n",
              "        vertical-align: middle;\n",
              "    }\n",
              "\n",
              "    .dataframe tbody tr th {\n",
              "        vertical-align: top;\n",
              "    }\n",
              "\n",
              "    .dataframe thead th {\n",
              "        text-align: right;\n",
              "    }\n",
              "</style>\n",
              "<table border=\"1\" class=\"dataframe\">\n",
              "  <thead>\n",
              "    <tr style=\"text-align: right;\">\n",
              "      <th></th>\n",
              "      <th>CITY</th>\n",
              "      <th>COUNT</th>\n",
              "    </tr>\n",
              "  </thead>\n",
              "  <tbody>\n",
              "    <tr>\n",
              "      <th>0</th>\n",
              "      <td>YOPOUGON</td>\n",
              "      <td>8540</td>\n",
              "    </tr>\n",
              "    <tr>\n",
              "      <th>1</th>\n",
              "      <td>ABOBO</td>\n",
              "      <td>6195</td>\n",
              "    </tr>\n",
              "    <tr>\n",
              "      <th>2</th>\n",
              "      <td>COCODY</td>\n",
              "      <td>3814</td>\n",
              "    </tr>\n",
              "    <tr>\n",
              "      <th>3</th>\n",
              "      <td>ADJAME</td>\n",
              "      <td>2627</td>\n",
              "    </tr>\n",
              "    <tr>\n",
              "      <th>4</th>\n",
              "      <td>KOUMASSI</td>\n",
              "      <td>2333</td>\n",
              "    </tr>\n",
              "    <tr>\n",
              "      <th>5</th>\n",
              "      <td>MARCORY</td>\n",
              "      <td>2189</td>\n",
              "    </tr>\n",
              "    <tr>\n",
              "      <th>6</th>\n",
              "      <td>YAMOUSSOUKRO</td>\n",
              "      <td>2148</td>\n",
              "    </tr>\n",
              "    <tr>\n",
              "      <th>7</th>\n",
              "      <td>TREICHVILLE</td>\n",
              "      <td>2053</td>\n",
              "    </tr>\n",
              "    <tr>\n",
              "      <th>8</th>\n",
              "      <td>DALOA</td>\n",
              "      <td>1762</td>\n",
              "    </tr>\n",
              "    <tr>\n",
              "      <th>9</th>\n",
              "      <td>ATTECOUBE</td>\n",
              "      <td>1671</td>\n",
              "    </tr>\n",
              "    <tr>\n",
              "      <th>10</th>\n",
              "      <td>PORT-BOUET</td>\n",
              "      <td>1527</td>\n",
              "    </tr>\n",
              "    <tr>\n",
              "      <th>11</th>\n",
              "      <td>SAN-PEDRO</td>\n",
              "      <td>1340</td>\n",
              "    </tr>\n",
              "    <tr>\n",
              "      <th>12</th>\n",
              "      <td>BOUAKE</td>\n",
              "      <td>1266</td>\n",
              "    </tr>\n",
              "    <tr>\n",
              "      <th>13</th>\n",
              "      <td>DIVO</td>\n",
              "      <td>846</td>\n",
              "    </tr>\n",
              "    <tr>\n",
              "      <th>14</th>\n",
              "      <td>MAN</td>\n",
              "      <td>672</td>\n",
              "    </tr>\n",
              "    <tr>\n",
              "      <th>15</th>\n",
              "      <td>GAGNOA</td>\n",
              "      <td>657</td>\n",
              "    </tr>\n",
              "    <tr>\n",
              "      <th>16</th>\n",
              "      <td>SOUBRE</td>\n",
              "      <td>549</td>\n",
              "    </tr>\n",
              "    <tr>\n",
              "      <th>17</th>\n",
              "      <td>DABOU</td>\n",
              "      <td>417</td>\n",
              "    </tr>\n",
              "    <tr>\n",
              "      <th>18</th>\n",
              "      <td>KORHOGO</td>\n",
              "      <td>367</td>\n",
              "    </tr>\n",
              "    <tr>\n",
              "      <th>19</th>\n",
              "      <td>SEGUELA</td>\n",
              "      <td>357</td>\n",
              "    </tr>\n",
              "    <tr>\n",
              "      <th>20</th>\n",
              "      <td>BINGERVILLE</td>\n",
              "      <td>354</td>\n",
              "    </tr>\n",
              "    <tr>\n",
              "      <th>21</th>\n",
              "      <td>DUEKOUE</td>\n",
              "      <td>330</td>\n",
              "    </tr>\n",
              "    <tr>\n",
              "      <th>22</th>\n",
              "      <td>SIKENSI</td>\n",
              "      <td>303</td>\n",
              "    </tr>\n",
              "    <tr>\n",
              "      <th>23</th>\n",
              "      <td>LAKOTA</td>\n",
              "      <td>282</td>\n",
              "    </tr>\n",
              "    <tr>\n",
              "      <th>24</th>\n",
              "      <td>AGBOVILLE</td>\n",
              "      <td>282</td>\n",
              "    </tr>\n",
              "    <tr>\n",
              "      <th>25</th>\n",
              "      <td>ISSIA</td>\n",
              "      <td>237</td>\n",
              "    </tr>\n",
              "    <tr>\n",
              "      <th>26</th>\n",
              "      <td>BOUAFLE</td>\n",
              "      <td>234</td>\n",
              "    </tr>\n",
              "    <tr>\n",
              "      <th>27</th>\n",
              "      <td>ANYAMA</td>\n",
              "      <td>228</td>\n",
              "    </tr>\n",
              "    <tr>\n",
              "      <th>28</th>\n",
              "      <td>GRAND-BASSAM</td>\n",
              "      <td>225</td>\n",
              "    </tr>\n",
              "    <tr>\n",
              "      <th>29</th>\n",
              "      <td>PLATEAU</td>\n",
              "      <td>213</td>\n",
              "    </tr>\n",
              "    <tr>\n",
              "      <th>30</th>\n",
              "      <td>ABENGOUROU</td>\n",
              "      <td>186</td>\n",
              "    </tr>\n",
              "    <tr>\n",
              "      <th>31</th>\n",
              "      <td>TOUMODI</td>\n",
              "      <td>183</td>\n",
              "    </tr>\n",
              "    <tr>\n",
              "      <th>32</th>\n",
              "      <td>ODIENNE</td>\n",
              "      <td>183</td>\n",
              "    </tr>\n",
              "    <tr>\n",
              "      <th>33</th>\n",
              "      <td>DAOUKRO</td>\n",
              "      <td>180</td>\n",
              "    </tr>\n",
              "    <tr>\n",
              "      <th>34</th>\n",
              "      <td>FERKE</td>\n",
              "      <td>174</td>\n",
              "    </tr>\n",
              "    <tr>\n",
              "      <th>35</th>\n",
              "      <td>DIMBOKRO</td>\n",
              "      <td>158</td>\n",
              "    </tr>\n",
              "    <tr>\n",
              "      <th>36</th>\n",
              "      <td>ADZOPE</td>\n",
              "      <td>156</td>\n",
              "    </tr>\n",
              "    <tr>\n",
              "      <th>37</th>\n",
              "      <td>VAVOUA</td>\n",
              "      <td>150</td>\n",
              "    </tr>\n",
              "    <tr>\n",
              "      <th>38</th>\n",
              "      <td>BONDOUKOU</td>\n",
              "      <td>141</td>\n",
              "    </tr>\n",
              "    <tr>\n",
              "      <th>39</th>\n",
              "      <td>MEADJI</td>\n",
              "      <td>140</td>\n",
              "    </tr>\n",
              "    <tr>\n",
              "      <th>40</th>\n",
              "      <td>ZUENOULA</td>\n",
              "      <td>126</td>\n",
              "    </tr>\n",
              "    <tr>\n",
              "      <th>41</th>\n",
              "      <td>AGNIBILEKRO</td>\n",
              "      <td>102</td>\n",
              "    </tr>\n",
              "  </tbody>\n",
              "</table>\n",
              "</div>"
            ],
            "text/plain": [
              "            CITY  COUNT\n",
              "0       YOPOUGON   8540\n",
              "1          ABOBO   6195\n",
              "2         COCODY   3814\n",
              "3         ADJAME   2627\n",
              "4       KOUMASSI   2333\n",
              "5        MARCORY   2189\n",
              "6   YAMOUSSOUKRO   2148\n",
              "7    TREICHVILLE   2053\n",
              "8          DALOA   1762\n",
              "9      ATTECOUBE   1671\n",
              "10    PORT-BOUET   1527\n",
              "11     SAN-PEDRO   1340\n",
              "12        BOUAKE   1266\n",
              "13          DIVO    846\n",
              "14           MAN    672\n",
              "15        GAGNOA    657\n",
              "16        SOUBRE    549\n",
              "17         DABOU    417\n",
              "18       KORHOGO    367\n",
              "19       SEGUELA    357\n",
              "20   BINGERVILLE    354\n",
              "21       DUEKOUE    330\n",
              "22       SIKENSI    303\n",
              "23        LAKOTA    282\n",
              "24     AGBOVILLE    282\n",
              "25         ISSIA    237\n",
              "26       BOUAFLE    234\n",
              "27        ANYAMA    228\n",
              "28  GRAND-BASSAM    225\n",
              "29       PLATEAU    213\n",
              "30    ABENGOUROU    186\n",
              "31       TOUMODI    183\n",
              "32       ODIENNE    183\n",
              "33       DAOUKRO    180\n",
              "34         FERKE    174\n",
              "35      DIMBOKRO    158\n",
              "36        ADZOPE    156\n",
              "37        VAVOUA    150\n",
              "38     BONDOUKOU    141\n",
              "39        MEADJI    140\n",
              "40      ZUENOULA    126\n",
              "41   AGNIBILEKRO    102"
            ]
          },
          "metadata": {
            "tags": []
          },
          "execution_count": 90
        }
      ]
    }
  ]
}